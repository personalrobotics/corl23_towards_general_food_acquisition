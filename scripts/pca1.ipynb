{
 "cells": [
  {
   "cell_type": "markdown",
   "metadata": {},
   "source": [
    "## Setup"
   ]
  },
  {
   "cell_type": "code",
   "execution_count": 55,
   "metadata": {},
   "outputs": [],
   "source": [
    "import numpy as np\n",
    "import pandas as pd\n",
    "import matplotlib.pyplot as plt\n",
    "import seaborn as sns\n",
    "from sklearn.decomposition import PCA\n",
    "from sklearn.impute import SimpleImputer\n",
    "from sklearn.preprocessing import StandardScaler"
   ]
  },
  {
   "cell_type": "markdown",
   "metadata": {},
   "source": [
    "The data: Protein quantity measurements of brain tissue samples from multiple regions."
   ]
  },
  {
   "cell_type": "markdown",
   "metadata": {},
   "source": [
    "Here we read in the data, store a feature for visualization later, and drop non-numeric features from the dataset."
   ]
  },
  {
   "cell_type": "code",
   "execution_count": 56,
   "metadata": {},
   "outputs": [
    {
     "data": {
      "text/plain": [
       "0      FWM\n",
       "1      PCx\n",
       "2      FWM\n",
       "3      FWM\n",
       "4      TCx\n",
       "      ... \n",
       "372    PCx\n",
       "373    HIP\n",
       "374    HIP\n",
       "375    PCx\n",
       "376    TCx\n",
       "Name: structure_acronym, Length: 377, dtype: object"
      ]
     },
     "execution_count": 56,
     "metadata": {},
     "output_type": "execute_result"
    }
   ],
   "source": [
    "data = pd.read_csv('ProteinAndPathologyQuantifications.csv')\n",
    "structures = data['structure_acronym']\n",
    "structures"
   ]
  },
  {
   "cell_type": "markdown",
   "metadata": {},
   "source": [
    "What do these acronyms mean? Each corresponds to a brain region. In this dataset, the four brain regions are:\n",
    "\n",
    "* **[Temporal Cortex](https://en.wikipedia.org/wiki/Temporal_lobe) (TCx)**: processing audio data, processing visual data, encoding long-term memories.\n",
    "* **[Parietal Cortex](https://en.wikipedia.org/wiki/Parietal_lobe) (PCx)**: processing sense of touch, temperature, and pain; processing spatial and navigation information. \n",
    "* **[Forebrain White Matter](https://medlineplus.gov/ency/article/002344.htm) (FWM)**: contains the nerve fibers and the myelin sheath, used to quickly and reliably transmit electrical impulses to the body.\n",
    "* **[Hippocampus](https://en.wikipedia.org/wiki/Hippocampus) (HIP)**: part of the temporal lobe, has a crucial role in learning and memory.\n"
   ]
  },
  {
   "cell_type": "code",
   "execution_count": 57,
   "metadata": {},
   "outputs": [
    {
     "name": "stdout",
     "output_type": "stream",
     "text": [
      "(377, 29)\n"
     ]
    },
    {
     "data": {
      "text/html": [
       "<div>\n",
       "<style scoped>\n",
       "    .dataframe tbody tr th:only-of-type {\n",
       "        vertical-align: middle;\n",
       "    }\n",
       "\n",
       "    .dataframe tbody tr th {\n",
       "        vertical-align: top;\n",
       "    }\n",
       "\n",
       "    .dataframe thead th {\n",
       "        text-align: right;\n",
       "    }\n",
       "</style>\n",
       "<table border=\"1\" class=\"dataframe\">\n",
       "  <thead>\n",
       "    <tr style=\"text-align: right;\">\n",
       "      <th></th>\n",
       "      <th>ihc_a_syn</th>\n",
       "      <th>ihc_tau2_ffpe</th>\n",
       "      <th>ihc_at8_ffpe</th>\n",
       "      <th>ihc_at8</th>\n",
       "      <th>ihc_ptdp_43_ffpe</th>\n",
       "      <th>ihc_a_beta_ffpe</th>\n",
       "      <th>ihc_a_beta</th>\n",
       "      <th>ihc_iba1_ffpe</th>\n",
       "      <th>ihc_gfap_ffpe</th>\n",
       "      <th>ptau_ng_per_mg</th>\n",
       "      <th>...</th>\n",
       "      <th>il_4_pg_per_mg</th>\n",
       "      <th>rantes_pg_per_mg</th>\n",
       "      <th>ab40_pg_per_mg</th>\n",
       "      <th>a_syn_pg_per_mg</th>\n",
       "      <th>ifn_g_pg_per_mg</th>\n",
       "      <th>mcp_1_pg_per_mg</th>\n",
       "      <th>bdnf_pg_per_mg</th>\n",
       "      <th>mip_1a_pg_per_mg</th>\n",
       "      <th>il_7_pg_per_mg</th>\n",
       "      <th>ab42_pg_per_mg</th>\n",
       "    </tr>\n",
       "  </thead>\n",
       "  <tbody>\n",
       "    <tr>\n",
       "      <th>0</th>\n",
       "      <td>0.000078</td>\n",
       "      <td>0.002358</td>\n",
       "      <td>0.001137</td>\n",
       "      <td>0.000110</td>\n",
       "      <td>0.001259</td>\n",
       "      <td>0.008335</td>\n",
       "      <td>0.004596</td>\n",
       "      <td>0.029660</td>\n",
       "      <td>0.047025</td>\n",
       "      <td>0.528121</td>\n",
       "      <td>...</td>\n",
       "      <td>2.68</td>\n",
       "      <td>15.99</td>\n",
       "      <td>0.736100</td>\n",
       "      <td>0.122288</td>\n",
       "      <td>1.47</td>\n",
       "      <td>20.78</td>\n",
       "      <td>5.03736</td>\n",
       "      <td>9.38</td>\n",
       "      <td>11.78</td>\n",
       "      <td>523.292251</td>\n",
       "    </tr>\n",
       "    <tr>\n",
       "      <th>1</th>\n",
       "      <td>0.000063</td>\n",
       "      <td>0.002762</td>\n",
       "      <td>0.001272</td>\n",
       "      <td>0.000164</td>\n",
       "      <td>0.002354</td>\n",
       "      <td>0.005047</td>\n",
       "      <td>0.008108</td>\n",
       "      <td>0.051882</td>\n",
       "      <td>0.057511</td>\n",
       "      <td>0.295942</td>\n",
       "      <td>...</td>\n",
       "      <td>3.02</td>\n",
       "      <td>24.04</td>\n",
       "      <td>0.669094</td>\n",
       "      <td>0.111962</td>\n",
       "      <td>1.44</td>\n",
       "      <td>40.40</td>\n",
       "      <td>4.95462</td>\n",
       "      <td>8.10</td>\n",
       "      <td>45.02</td>\n",
       "      <td>81.493875</td>\n",
       "    </tr>\n",
       "    <tr>\n",
       "      <th>2</th>\n",
       "      <td>0.000064</td>\n",
       "      <td>0.003468</td>\n",
       "      <td>0.013787</td>\n",
       "      <td>0.016023</td>\n",
       "      <td>0.001708</td>\n",
       "      <td>0.007365</td>\n",
       "      <td>0.017214</td>\n",
       "      <td>0.057172</td>\n",
       "      <td>0.033150</td>\n",
       "      <td>1.543643</td>\n",
       "      <td>...</td>\n",
       "      <td>0.80</td>\n",
       "      <td>129.80</td>\n",
       "      <td>0.736100</td>\n",
       "      <td>0.091084</td>\n",
       "      <td>0.54</td>\n",
       "      <td>46.88</td>\n",
       "      <td>5.88409</td>\n",
       "      <td>27.00</td>\n",
       "      <td>15.82</td>\n",
       "      <td>470.734514</td>\n",
       "    </tr>\n",
       "    <tr>\n",
       "      <th>3</th>\n",
       "      <td>0.000049</td>\n",
       "      <td>0.003035</td>\n",
       "      <td>0.001707</td>\n",
       "      <td>0.000137</td>\n",
       "      <td>0.001729</td>\n",
       "      <td>0.004046</td>\n",
       "      <td>0.003868</td>\n",
       "      <td>0.049068</td>\n",
       "      <td>0.043767</td>\n",
       "      <td>1.078323</td>\n",
       "      <td>...</td>\n",
       "      <td>1.30</td>\n",
       "      <td>15.16</td>\n",
       "      <td>8.995575</td>\n",
       "      <td>0.054076</td>\n",
       "      <td>0.76</td>\n",
       "      <td>10.34</td>\n",
       "      <td>16.13524</td>\n",
       "      <td>8.06</td>\n",
       "      <td>24.22</td>\n",
       "      <td>568.368571</td>\n",
       "    </tr>\n",
       "    <tr>\n",
       "      <th>4</th>\n",
       "      <td>0.000080</td>\n",
       "      <td>0.002088</td>\n",
       "      <td>0.004489</td>\n",
       "      <td>0.000062</td>\n",
       "      <td>0.001513</td>\n",
       "      <td>0.015809</td>\n",
       "      <td>0.046244</td>\n",
       "      <td>0.045467</td>\n",
       "      <td>0.023337</td>\n",
       "      <td>1.688704</td>\n",
       "      <td>...</td>\n",
       "      <td>0.00</td>\n",
       "      <td>17.90</td>\n",
       "      <td>95.931000</td>\n",
       "      <td>0.030000</td>\n",
       "      <td>1.22</td>\n",
       "      <td>21.38</td>\n",
       "      <td>0.03000</td>\n",
       "      <td>10.52</td>\n",
       "      <td>23.72</td>\n",
       "      <td>438.863263</td>\n",
       "    </tr>\n",
       "    <tr>\n",
       "      <th>...</th>\n",
       "      <td>...</td>\n",
       "      <td>...</td>\n",
       "      <td>...</td>\n",
       "      <td>...</td>\n",
       "      <td>...</td>\n",
       "      <td>...</td>\n",
       "      <td>...</td>\n",
       "      <td>...</td>\n",
       "      <td>...</td>\n",
       "      <td>...</td>\n",
       "      <td>...</td>\n",
       "      <td>...</td>\n",
       "      <td>...</td>\n",
       "      <td>...</td>\n",
       "      <td>...</td>\n",
       "      <td>...</td>\n",
       "      <td>...</td>\n",
       "      <td>...</td>\n",
       "      <td>...</td>\n",
       "      <td>...</td>\n",
       "      <td>...</td>\n",
       "    </tr>\n",
       "    <tr>\n",
       "      <th>372</th>\n",
       "      <td>0.000046</td>\n",
       "      <td>0.001989</td>\n",
       "      <td>0.000533</td>\n",
       "      <td>0.000082</td>\n",
       "      <td>0.001130</td>\n",
       "      <td>0.003128</td>\n",
       "      <td>0.000967</td>\n",
       "      <td>0.052738</td>\n",
       "      <td>0.038984</td>\n",
       "      <td>NaN</td>\n",
       "      <td>...</td>\n",
       "      <td>NaN</td>\n",
       "      <td>NaN</td>\n",
       "      <td>NaN</td>\n",
       "      <td>NaN</td>\n",
       "      <td>NaN</td>\n",
       "      <td>NaN</td>\n",
       "      <td>NaN</td>\n",
       "      <td>NaN</td>\n",
       "      <td>NaN</td>\n",
       "      <td>NaN</td>\n",
       "    </tr>\n",
       "    <tr>\n",
       "      <th>373</th>\n",
       "      <td>0.000089</td>\n",
       "      <td>0.001918</td>\n",
       "      <td>0.004685</td>\n",
       "      <td>0.000923</td>\n",
       "      <td>0.001181</td>\n",
       "      <td>0.003483</td>\n",
       "      <td>0.010057</td>\n",
       "      <td>0.086936</td>\n",
       "      <td>0.054531</td>\n",
       "      <td>1.519767</td>\n",
       "      <td>...</td>\n",
       "      <td>0.00</td>\n",
       "      <td>5.94</td>\n",
       "      <td>0.574500</td>\n",
       "      <td>0.248816</td>\n",
       "      <td>0.00</td>\n",
       "      <td>7.16</td>\n",
       "      <td>2.94819</td>\n",
       "      <td>17.82</td>\n",
       "      <td>1.38</td>\n",
       "      <td>0.054413</td>\n",
       "    </tr>\n",
       "    <tr>\n",
       "      <th>374</th>\n",
       "      <td>0.000066</td>\n",
       "      <td>0.002275</td>\n",
       "      <td>0.006337</td>\n",
       "      <td>0.009560</td>\n",
       "      <td>0.001395</td>\n",
       "      <td>0.001710</td>\n",
       "      <td>0.006445</td>\n",
       "      <td>0.066469</td>\n",
       "      <td>0.044727</td>\n",
       "      <td>2.751660</td>\n",
       "      <td>...</td>\n",
       "      <td>0.00</td>\n",
       "      <td>7.62</td>\n",
       "      <td>0.900050</td>\n",
       "      <td>0.183510</td>\n",
       "      <td>0.00</td>\n",
       "      <td>3.14</td>\n",
       "      <td>10.56419</td>\n",
       "      <td>21.96</td>\n",
       "      <td>0.60</td>\n",
       "      <td>0.181375</td>\n",
       "    </tr>\n",
       "    <tr>\n",
       "      <th>375</th>\n",
       "      <td>0.000793</td>\n",
       "      <td>0.004384</td>\n",
       "      <td>0.001266</td>\n",
       "      <td>0.000093</td>\n",
       "      <td>0.002505</td>\n",
       "      <td>0.009795</td>\n",
       "      <td>0.020585</td>\n",
       "      <td>0.033144</td>\n",
       "      <td>0.058040</td>\n",
       "      <td>0.708701</td>\n",
       "      <td>...</td>\n",
       "      <td>0.02</td>\n",
       "      <td>4.88</td>\n",
       "      <td>0.444250</td>\n",
       "      <td>0.045202</td>\n",
       "      <td>0.00</td>\n",
       "      <td>7.20</td>\n",
       "      <td>2.83064</td>\n",
       "      <td>0.00</td>\n",
       "      <td>12.46</td>\n",
       "      <td>205.886650</td>\n",
       "    </tr>\n",
       "    <tr>\n",
       "      <th>376</th>\n",
       "      <td>0.000079</td>\n",
       "      <td>0.002135</td>\n",
       "      <td>0.001351</td>\n",
       "      <td>0.000068</td>\n",
       "      <td>0.002416</td>\n",
       "      <td>0.002017</td>\n",
       "      <td>0.001596</td>\n",
       "      <td>0.014794</td>\n",
       "      <td>0.024254</td>\n",
       "      <td>1.021198</td>\n",
       "      <td>...</td>\n",
       "      <td>0.00</td>\n",
       "      <td>39.64</td>\n",
       "      <td>0.536900</td>\n",
       "      <td>0.080000</td>\n",
       "      <td>0.08</td>\n",
       "      <td>8.92</td>\n",
       "      <td>0.08000</td>\n",
       "      <td>8.82</td>\n",
       "      <td>9.50</td>\n",
       "      <td>0.378056</td>\n",
       "    </tr>\n",
       "  </tbody>\n",
       "</table>\n",
       "<p>377 rows × 29 columns</p>\n",
       "</div>"
      ],
      "text/plain": [
       "     ihc_a_syn  ihc_tau2_ffpe  ihc_at8_ffpe   ihc_at8  ihc_ptdp_43_ffpe  \\\n",
       "0     0.000078       0.002358      0.001137  0.000110          0.001259   \n",
       "1     0.000063       0.002762      0.001272  0.000164          0.002354   \n",
       "2     0.000064       0.003468      0.013787  0.016023          0.001708   \n",
       "3     0.000049       0.003035      0.001707  0.000137          0.001729   \n",
       "4     0.000080       0.002088      0.004489  0.000062          0.001513   \n",
       "..         ...            ...           ...       ...               ...   \n",
       "372   0.000046       0.001989      0.000533  0.000082          0.001130   \n",
       "373   0.000089       0.001918      0.004685  0.000923          0.001181   \n",
       "374   0.000066       0.002275      0.006337  0.009560          0.001395   \n",
       "375   0.000793       0.004384      0.001266  0.000093          0.002505   \n",
       "376   0.000079       0.002135      0.001351  0.000068          0.002416   \n",
       "\n",
       "     ihc_a_beta_ffpe  ihc_a_beta  ihc_iba1_ffpe  ihc_gfap_ffpe  \\\n",
       "0           0.008335    0.004596       0.029660       0.047025   \n",
       "1           0.005047    0.008108       0.051882       0.057511   \n",
       "2           0.007365    0.017214       0.057172       0.033150   \n",
       "3           0.004046    0.003868       0.049068       0.043767   \n",
       "4           0.015809    0.046244       0.045467       0.023337   \n",
       "..               ...         ...            ...            ...   \n",
       "372         0.003128    0.000967       0.052738       0.038984   \n",
       "373         0.003483    0.010057       0.086936       0.054531   \n",
       "374         0.001710    0.006445       0.066469       0.044727   \n",
       "375         0.009795    0.020585       0.033144       0.058040   \n",
       "376         0.002017    0.001596       0.014794       0.024254   \n",
       "\n",
       "     ptau_ng_per_mg  ...  il_4_pg_per_mg  rantes_pg_per_mg  ab40_pg_per_mg  \\\n",
       "0          0.528121  ...            2.68             15.99        0.736100   \n",
       "1          0.295942  ...            3.02             24.04        0.669094   \n",
       "2          1.543643  ...            0.80            129.80        0.736100   \n",
       "3          1.078323  ...            1.30             15.16        8.995575   \n",
       "4          1.688704  ...            0.00             17.90       95.931000   \n",
       "..              ...  ...             ...               ...             ...   \n",
       "372             NaN  ...             NaN               NaN             NaN   \n",
       "373        1.519767  ...            0.00              5.94        0.574500   \n",
       "374        2.751660  ...            0.00              7.62        0.900050   \n",
       "375        0.708701  ...            0.02              4.88        0.444250   \n",
       "376        1.021198  ...            0.00             39.64        0.536900   \n",
       "\n",
       "     a_syn_pg_per_mg  ifn_g_pg_per_mg  mcp_1_pg_per_mg  bdnf_pg_per_mg  \\\n",
       "0           0.122288             1.47            20.78         5.03736   \n",
       "1           0.111962             1.44            40.40         4.95462   \n",
       "2           0.091084             0.54            46.88         5.88409   \n",
       "3           0.054076             0.76            10.34        16.13524   \n",
       "4           0.030000             1.22            21.38         0.03000   \n",
       "..               ...              ...              ...             ...   \n",
       "372              NaN              NaN              NaN             NaN   \n",
       "373         0.248816             0.00             7.16         2.94819   \n",
       "374         0.183510             0.00             3.14        10.56419   \n",
       "375         0.045202             0.00             7.20         2.83064   \n",
       "376         0.080000             0.08             8.92         0.08000   \n",
       "\n",
       "     mip_1a_pg_per_mg  il_7_pg_per_mg  ab42_pg_per_mg  \n",
       "0                9.38           11.78      523.292251  \n",
       "1                8.10           45.02       81.493875  \n",
       "2               27.00           15.82      470.734514  \n",
       "3                8.06           24.22      568.368571  \n",
       "4               10.52           23.72      438.863263  \n",
       "..                ...             ...             ...  \n",
       "372               NaN             NaN             NaN  \n",
       "373             17.82            1.38        0.054413  \n",
       "374             21.96            0.60        0.181375  \n",
       "375              0.00           12.46      205.886650  \n",
       "376              8.82            9.50        0.378056  \n",
       "\n",
       "[377 rows x 29 columns]"
      ]
     },
     "execution_count": 57,
     "metadata": {},
     "output_type": "execute_result"
    }
   ],
   "source": [
    "clean_data = data.drop(columns=['donor_id', 'donor_name', 'structure_id', 'structure_acronym'])\n",
    "print(clean_data.shape)\n",
    "clean_data"
   ]
  },
  {
   "cell_type": "markdown",
   "metadata": {},
   "source": [
    "The other columns indicate the amount of a protein present in that brain tissue sample."
   ]
  },
  {
   "cell_type": "markdown",
   "metadata": {},
   "source": [
    "## Pre-processing"
   ]
  },
  {
   "cell_type": "markdown",
   "metadata": {},
   "source": [
    "Some of these cells have missing data, represented by NaN (not-a-number) values. Because PCA can't handle missing data, we want to replace all NaN values with a reasonable alternative for this domain, using [SimpleImputer](https://scikit-learn.org/stable/modules/generated/sklearn.impute.SimpleImputer.html). Let's replace missing values with the **mean** of the exisitng values in that column."
   ]
  },
  {
   "cell_type": "code",
   "execution_count": 58,
   "metadata": {},
   "outputs": [],
   "source": [
    "imp_mean = SimpleImputer(missing_values=np.nan, strategy='mean')\n",
    "clean_data = imp_mean.fit_transform(clean_data)"
   ]
  },
  {
   "cell_type": "markdown",
   "metadata": {},
   "source": [
    "Next, let's normalize the data using [StandardScaler](https://scikit-learn.org/stable/modules/generated/sklearn.preprocessing.StandardScaler.html). \n",
    "\n",
    "This is important because PCA picks the dimensions (linear combinations of the features) that **maximize variance**. We want this procedure to be agnostic to the units of the dataset. For example, let's say one column had units `km` and you then change it to `cm`. The variance of that column will now jump up 100x, and therefore PCA will put more weight on that column. This is undesirable because nothing has fundamentally changed amongst the dataset. To avoid this behavior, we normalize the data before inputting it into PCA."
   ]
  },
  {
   "cell_type": "code",
   "execution_count": 59,
   "metadata": {},
   "outputs": [
    {
     "data": {
      "text/plain": [
       "array([[-0.18960178, -0.47869734, -0.82037204, ..., -0.24277687,\n",
       "        -0.24779252,  1.26252476],\n",
       "       [-0.20076815, -0.38541831, -0.80927418, ..., -0.26203924,\n",
       "         2.60171979, -0.8461383 ],\n",
       "       [-0.19978468, -0.22244926,  0.22159515, ...,  0.02238156,\n",
       "         0.09853809,  1.01167151],\n",
       "       ...,\n",
       "       [-0.19812106, -0.49777969, -0.39204777, ..., -0.05346398,\n",
       "        -1.2062025 , -1.23423539],\n",
       "       [ 0.33793089, -0.01119573, -0.80977155, ..., -0.38393386,\n",
       "        -0.18949925, -0.25242301],\n",
       "       [-0.18862476, -0.53009655, -0.8027862 , ..., -0.25120416,\n",
       "        -0.44324644, -1.23329665]])"
      ]
     },
     "execution_count": 59,
     "metadata": {},
     "output_type": "execute_result"
    }
   ],
   "source": [
    "clean_data = StandardScaler().fit_transform(clean_data)\n",
    "clean_data"
   ]
  },
  {
   "cell_type": "markdown",
   "metadata": {},
   "source": [
    "##  PCA"
   ]
  },
  {
   "cell_type": "markdown",
   "metadata": {},
   "source": [
    "Finally, we set-up our [PCA](https://scikit-learn.org/stable/modules/generated/sklearn.decomposition.PCA.html) model, fit it, and transform the data (embed it in low dimensional space)"
   ]
  },
  {
   "cell_type": "code",
   "execution_count": 60,
   "metadata": {},
   "outputs": [],
   "source": [
    "pca = PCA(n_components=clean_data.shape[1])\n",
    "pca.fit(clean_data)\n",
    "transformed = pca.transform(clean_data)"
   ]
  },
  {
   "cell_type": "markdown",
   "metadata": {},
   "source": [
    "We can see how much variance each PC explains. Select the first 5 components."
   ]
  },
  {
   "cell_type": "code",
   "execution_count": 61,
   "metadata": {},
   "outputs": [
    {
     "name": "stdout",
     "output_type": "stream",
     "text": [
      "[0.19729818 0.11293478 0.06357026 0.06211117 0.05287326]\n",
      "0.48878766190718437\n"
     ]
    }
   ],
   "source": [
    "# Display the explained variance ratio of the first 5 PCs\n",
    "print(pca.explained_variance_ratio_[0:5])\n",
    "# What is the total ratio of the variance this explains?\n",
    "print(pca.explained_variance_ratio_[0:5].sum())"
   ]
  },
  {
   "cell_type": "markdown",
   "metadata": {},
   "source": [
    "**Question**: What ratio of the total variance would be explained by the first 29 components?"
   ]
  },
  {
   "cell_type": "code",
   "execution_count": 62,
   "metadata": {},
   "outputs": [
    {
     "name": "stdout",
     "output_type": "stream",
     "text": [
      "1.0\n"
     ]
    }
   ],
   "source": [
    "print(pca.explained_variance_ratio_[0:29].sum())"
   ]
  },
  {
   "cell_type": "markdown",
   "metadata": {},
   "source": [
    "## Plots"
   ]
  },
  {
   "cell_type": "markdown",
   "metadata": {},
   "source": [
    "Here we see that two main clusters are apparent in this low dimensional space"
   ]
  },
  {
   "cell_type": "code",
   "execution_count": 63,
   "metadata": {},
   "outputs": [
    {
     "data": {
      "image/png": "[encoded data removed]",
      "text/plain": [
       "<Figure size 432x288 with 1 Axes>"
      ]
     },
     "metadata": {
      "needs_background": "light"
     },
     "output_type": "display_data"
    }
   ],
   "source": [
    "sns.scatterplot(x=transformed[:,0], y=transformed[:,1])\n",
    "plt.xlabel('PC1')\n",
    "plt.ylabel('PC2')\n",
    "plt.show()"
   ]
  },
  {
   "cell_type": "markdown",
   "metadata": {},
   "source": [
    "**Question**: Did we just do clustering using PCA? Why or why not?"
   ]
  },
  {
   "cell_type": "markdown",
   "metadata": {},
   "source": [
    "After coloring by brain region, we can see that the islands represent the difference between the hippocampus and other brain regions"
   ]
  },
  {
   "cell_type": "code",
   "execution_count": 64,
   "metadata": {},
   "outputs": [
    {
     "data": {
      "image/png": "[encoded data removed]",
      "text/plain": [
       "<Figure size 432x288 with 1 Axes>"
      ]
     },
     "metadata": {
      "needs_background": "light"
     },
     "output_type": "display_data"
    }
   ],
   "source": [
    "sns.scatterplot(x=transformed[:,0], y=transformed[:,1], hue=structures)\n",
    "plt.xlabel('PC1')\n",
    "plt.ylabel('PC2')\n",
    "plt.show()"
   ]
  },
  {
   "cell_type": "markdown",
   "metadata": {},
   "source": [
    "**Question**: How can we interpret this result, in light of what our dataset represents?"
   ]
  },
  {
   "cell_type": "markdown",
   "metadata": {},
   "source": [
    "We can look at other PCs as well. There are outliers that become apparent here!"
   ]
  },
  {
   "cell_type": "code",
   "execution_count": 65,
   "metadata": {},
   "outputs": [
    {
     "data": {
      "image/png": "[encoded data removed]",
      "text/plain": [
       "<Figure size 432x288 with 1 Axes>"
      ]
     },
     "metadata": {
      "needs_background": "light"
     },
     "output_type": "display_data"
    }
   ],
   "source": [
    "sns.scatterplot(x=transformed[:,1], y=transformed[:,2], hue=structures)\n",
    "plt.xlabel('PC2')\n",
    "plt.ylabel('PC3')\n",
    "plt.show()"
   ]
  },
  {
   "cell_type": "markdown",
   "metadata": {},
   "source": [
    "**Question**: Why was PCA helpful for this problem (why did we use it)?"
   ]
  }
 ],
 "metadata": {
  "kernelspec": {
   "display_name": "Python 3 (ipykernel)",
   "language": "python",
   "name": "python3"
  },
  "language_info": {
   "codemirror_mode": {
    "name": "ipython",
    "version": 3
   },
   "file_extension": ".py",
   "mimetype": "text/x-python",
   "name": "python",
   "nbconvert_exporter": "python",
   "pygments_lexer": "ipython3",
   "version": "3.8.10"
  }
 },
 "nbformat": 4,
 "nbformat_minor": 1
}
