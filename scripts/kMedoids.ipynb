{
 "cells": [
  {
   "cell_type": "markdown",
   "metadata": {},
   "source": [
    "# 1. Setting Up"
   ]
  },
  {
   "cell_type": "code",
   "execution_count": 71,
   "metadata": {},
   "outputs": [],
   "source": [
    "import numpy as np\n",
    "import pandas as pd\n",
    "import kneed as kneed\n",
    "pd.set_option(\"display.max_columns\", None)\n",
    "pd.set_option(\"display.max_rows\", None)\n",
    "\n",
    "import matplotlib.pyplot as plt\n",
    "from sklearn.cluster import KMeans, AgglomerativeClustering\n",
    "from sklearn_extra.cluster import KMedoids\n",
    "from kneed import KneeLocator"
   ]
  },
  {
   "cell_type": "markdown",
   "metadata": {},
   "source": [
    "# 2. Loading the Dataset"
   ]
  },
  {
   "cell_type": "markdown",
   "metadata": {},
   "source": [
    "Action Schema Dataset"
   ]
  },
  {
   "cell_type": "code",
   "execution_count": 58,
   "metadata": {},
   "outputs": [
    {
     "name": "stdout",
     "output_type": "stream",
     "text": [
      "original shape:  (412, 42)\n",
      "after dropping non-skewered and outliers  (406, 42)\n",
      "after dropping nan, inf:  (400, 42)\n",
      "after non number columns  (400, 24)\n",
      "after non number columns  (400, 23)\n"
     ]
    }
   ],
   "source": [
    "filepath = \"/home/ramya/my-workspace/src/feeding_study_cleanup/scripts/action_schema_data (3).csv\"\n",
    "data = pd.read_csv(filepath)\n",
    "print(\"original shape: \",data.shape)\n",
    "\n",
    "\n",
    "# Drop the rows aren't skewered items. Using substrings due to naming\n",
    "# inconsistencies (e.g., doughnutholes vs. donutholes)\n",
    "skewered_item_substrings = [\n",
    "    \"chicken\",\n",
    "    \"broc\",\n",
    "    \"fri\",\n",
    "    \"bagel\",\n",
    "    \"nut\",\n",
    "    \"lettuce\",\n",
    "    \"spinach\",\n",
    "    \"sand\",\n",
    "    \"pizza\",\n",
    "]\n",
    "\n",
    "rows_to_drop = []\n",
    "#for i, row in data.iterrows():\n",
    "#    is_skewered = False\n",
    "#    for substr in skewered_item_substrings:\n",
    "#        if substr in row[\"Bag File Name\"]:\n",
    "#            is_skewered = True\n",
    "#            break\n",
    "            \n",
    "#    if not is_skewered:\n",
    "#        rows_to_drop.append(i)\n",
    "\n",
    "# Drop outliers \n",
    "# 3-fries-4\n",
    "# 8-broccoli-5\n",
    "# 3-chicken-1\n",
    "for i, row in data.iterrows():\n",
    "    is_skewered = False\n",
    "    #if  \"noodle\" in row[\"Bag File Name\"]:\n",
    "    #    continue\n",
    "        #rows_to_drop.append(i)\n",
    "    if  \"3-fries-4\" in row[\"Bag File Name\"]:\n",
    "        rows_to_drop.append(i)\n",
    "    if  \"3-chicken-1\" in row[\"Bag File Name\"]:\n",
    "        rows_to_drop.append(i)\n",
    "    if  \"5-pizza-3\" in row[\"Bag File Name\"]:\n",
    "        rows_to_drop.append(i)\n",
    "    if  \"9-noodles-4\" in row[\"Bag File Name\"]:\n",
    "        rows_to_drop.append(i)\n",
    "    if  \"9-noodles-2\" in row[\"Bag File Name\"]:\n",
    "        rows_to_drop.append(i)\n",
    "    if  \"9-noodles-3\" in row[\"Bag File Name\"]:\n",
    "        rows_to_drop.append(i)\n",
    "    #rows_to_drop.append(i)\n",
    "        \n",
    "data  = data.drop(rows_to_drop, axis=0)\n",
    "print(\"after dropping non-skewered and outliers \", data.shape)\n",
    "\n",
    "        \n",
    "# Drop any row containing nan or inf\n",
    "data = data[np.all(data != np.nan, axis=1)]\n",
    "data = data[np.all(data != np.inf, axis=1)]\n",
    "data = data[np.all(data != -np.inf, axis=1)]\n",
    "print(\"after dropping nan, inf: \",data.shape)\n",
    "\n",
    "\n",
    "\n",
    "# Drop all nonnumeric data\n",
    "data  = data.drop([\n",
    "    \"Participant\",\n",
    "    \"Food\",\n",
    "    \"Trial\",\n",
    "    \"Save Timestamp\",\n",
    "    \"Action Start Time\",\n",
    "    \"Action Contact Time\",\n",
    "    \"Action Extraction Time\",\n",
    "    \"Action End Time\",\n",
    "    \"Bag Duration\",\n",
    "    \"Food Reference Frame Translation X\",\n",
    "    \"Food Reference Frame Translation Y\",\n",
    "    \"Food Reference Frame Translation Z\",\n",
    "    \"Food Reference Frame Rotation X\",\n",
    "    \"Food Reference Frame Rotation Y\",\n",
    "    \"Food Reference Frame Rotation Z\",\n",
    "    \"Pre-Grasp Target Offset X\",\n",
    "    \"Pre-Grasp Target Offset Y\",\n",
    "    \"Pre-Grasp Target Offset Z\"\n",
    "], axis=1)\n",
    "print(\"after non number columns \", data.shape)\n",
    "\n",
    "\n",
    "\n",
    "# Replace with substrings for mean and stdev\n",
    "data.loc[data['Bag File Name'].str.contains('chicken'), 'Bag File Name'] = 'chicken'\n",
    "data.loc[data['Bag File Name'].str.contains('broc'), 'Bag File Name'] = 'broc'\n",
    "data.loc[data['Bag File Name'].str.contains('fri'), 'Bag File Name'] = 'fri'\n",
    "data.loc[data['Bag File Name'].str.contains('bagel'), 'Bag File Name'] = 'bagel'\n",
    "data.loc[data['Bag File Name'].str.contains('nut'), 'Bag File Name'] = 'nut'\n",
    "data.loc[data['Bag File Name'].str.contains('lettuce'), 'Bag File Name'] = 'lettuce'\n",
    "data.loc[data['Bag File Name'].str.contains('spinach'), 'Bag File Name'] = 'spinach'\n",
    "data.loc[data['Bag File Name'].str.contains('sand'), 'Bag File Name'] = 'sand'\n",
    "data.loc[data['Bag File Name'].str.contains('pizza'), 'Bag File Name'] = 'pizza'\n",
    "# replace the nonskwered\n",
    "data.loc[data['Bag File Name'].str.contains('potato'), 'Bag File Name'] = 'potato'\n",
    "data.loc[data['Bag File Name'].str.contains('rice'), 'Bag File Name'] = 'rice'\n",
    "data.loc[data['Bag File Name'].str.contains('noodle'), 'Bag File Name'] = 'noodle'\n",
    "data.loc[data['Bag File Name'].str.contains('jello'), 'Bag File Name'] = 'jello'\n",
    "data.shape\n",
    "\n",
    "# Drop all nonnumeric data\n",
    "data_num  = data.drop([\n",
    "    \"Bag File Name\",\n",
    "], axis=1)\n",
    "print(\"after non number columns \", data_num.shape)"
   ]
  },
  {
   "cell_type": "markdown",
   "metadata": {},
   "source": [
    "**Shape**: First value is the total number of trials, second is the number of columns (26 means only the action schema)"
   ]
  },
  {
   "cell_type": "markdown",
   "metadata": {},
   "source": [
    "# 3. Running K-Medoids\n",
    "\n",
    "We will now run k-medoids to cluster the dataset, using sklearn's [KMedoids](https://scikit-learn-extra.readthedocs.io/en/stable/generated/sklearn_extra.cluster.KMedoids.html). Set `random_state=416`."
   ]
  },
  {
   "cell_type": "code",
   "execution_count": 59,
   "metadata": {},
   "outputs": [
    {
     "data": {
      "text/plain": [
       "array([[ 1.17547233e-01,  1.05164580e-01,  2.02854271e-01,\n",
       "         2.97999138e+00, -3.46957248e-01,  3.83299672e-01,\n",
       "         2.10846645e+00, -4.56620279e-04, -7.74783487e-03,\n",
       "         1.74521071e-02,  9.13474209e-02,  1.29169452e-01,\n",
       "        -1.12478704e-01,  1.68229141e+01,  3.07260904e-03,\n",
       "         1.40973210e+00, -2.33298826e-02,  1.51285147e-02,\n",
       "        -1.19979360e-01, -4.93913325e-01, -5.61525158e-01,\n",
       "        -7.61428371e-02,  3.10029030e-01],\n",
       "       [-1.28208927e-01,  1.61526319e-02,  1.79768597e-01,\n",
       "         2.93665441e+00,  3.73573596e-01, -1.40336886e+00,\n",
       "         1.90801157e+00,  3.08904076e-03, -3.56083647e-03,\n",
       "         3.37768031e-02,  1.31026414e-01,  6.01847891e-02,\n",
       "         2.79690246e-02,  5.08811102e+01,  6.84927658e-03,\n",
       "         1.40995622e+00, -4.78890903e-02,  2.22829588e-02,\n",
       "        -2.32160524e-01, -1.27362328e+00, -3.84433005e-01,\n",
       "         5.81591389e-01,  1.30046368e-01],\n",
       "       [-8.28057417e-02,  1.13306378e-01,  1.67883753e-01,\n",
       "         2.62994502e+00, -6.49366998e-02, -4.50441573e-01,\n",
       "         2.15066003e+00,  2.01570890e-02, -2.89150392e-03,\n",
       "         1.76974879e-02,  1.58955661e-01,  1.57427100e-01,\n",
       "        -8.37514932e-02,  3.49733578e+01,  2.50527547e-03,\n",
       "         1.97997403e+00,  3.55240436e-02, -4.09913991e-02,\n",
       "        -2.54313166e-01, -8.49838472e-01, -3.51998235e-01,\n",
       "         5.24740913e-01,  1.39983892e-01],\n",
       "       [-2.19502407e-02,  5.27733228e-02,  1.28589138e-01,\n",
       "         2.16330088e+00, -3.56730679e-01, -1.86688947e+00,\n",
       "         1.80637289e+00,  3.15179944e-02,  1.71275115e-02,\n",
       "         1.58009814e-02, -2.85654190e-02,  1.43679202e-01,\n",
       "        -1.22265511e-01,  2.45171051e+01,  1.76533317e-02,\n",
       "         1.15000296e+00, -5.65607815e-02, -5.61240012e-02,\n",
       "        -8.77196698e-02,  3.50393403e-01, -3.89445439e-01,\n",
       "         3.51004547e-01,  3.39908600e-01],\n",
       "       [-5.16792358e-02,  5.11475381e-02,  1.53088960e-01,\n",
       "         2.45220383e+00,  8.25900908e-02, -2.05713903e-01,\n",
       "         2.00852417e+00,  3.26550536e-02,  5.46837261e-02,\n",
       "         6.43106692e-02, -3.24830878e-01,  2.60782346e-01,\n",
       "         2.05247284e-01,  2.16373826e+00,  2.67819434e-03,\n",
       "         1.33998322e+00,  4.24714877e-02,  7.47199760e-02,\n",
       "        -7.51213976e-02, -2.71966473e-01,  6.10979854e-02,\n",
       "         2.08109386e-01,  3.20132971e-01]])"
      ]
     },
     "execution_count": 59,
     "metadata": {},
     "output_type": "execute_result"
    }
   ],
   "source": [
    "k = 5\n",
    "kmedoids = KMedoids(n_clusters=k, random_state=416).fit(data_num)\n",
    "kmedoids.cluster_centers_"
   ]
  },
  {
   "cell_type": "markdown",
   "metadata": {},
   "source": [
    "For visualization purposes, let's add the cluster labels to the pandas dataframe."
   ]
  },
  {
   "cell_type": "code",
   "execution_count": 62,
   "metadata": {},
   "outputs": [],
   "source": [
    "data_num[\"Clusters k=%d\" % k] = kmedoids.labels_\n",
    "data[\"Clusters k=%d\" % k] = kmedoids.labels_\n"
   ]
  },
  {
   "cell_type": "markdown",
   "metadata": {},
   "source": [
    "**Questions**: What trends do you observe? What underlying patterns might the clustering algorithm have picked up on?"
   ]
  },
  {
   "cell_type": "code",
   "execution_count": 79,
   "metadata": {},
   "outputs": [
    {
     "data": {
      "text/html": [
       "<div>\n",
       "<style scoped>\n",
       "    .dataframe tbody tr th:only-of-type {\n",
       "        vertical-align: middle;\n",
       "    }\n",
       "\n",
       "    .dataframe tbody tr th {\n",
       "        vertical-align: top;\n",
       "    }\n",
       "\n",
       "    .dataframe thead th {\n",
       "        text-align: right;\n",
       "    }\n",
       "</style>\n",
       "<table border=\"1\" class=\"dataframe\">\n",
       "  <thead>\n",
       "    <tr style=\"text-align: right;\">\n",
       "      <th>Clusters k=5</th>\n",
       "      <th>0</th>\n",
       "      <th>1</th>\n",
       "      <th>2</th>\n",
       "      <th>3</th>\n",
       "      <th>4</th>\n",
       "    </tr>\n",
       "    <tr>\n",
       "      <th>Bag File Name</th>\n",
       "      <th></th>\n",
       "      <th></th>\n",
       "      <th></th>\n",
       "      <th></th>\n",
       "      <th></th>\n",
       "    </tr>\n",
       "  </thead>\n",
       "  <tbody>\n",
       "    <tr>\n",
       "      <th>bagel</th>\n",
       "      <td>7</td>\n",
       "      <td>2</td>\n",
       "      <td>9</td>\n",
       "      <td>12</td>\n",
       "      <td>0</td>\n",
       "    </tr>\n",
       "    <tr>\n",
       "      <th>broc</th>\n",
       "      <td>0</td>\n",
       "      <td>10</td>\n",
       "      <td>19</td>\n",
       "      <td>6</td>\n",
       "      <td>0</td>\n",
       "    </tr>\n",
       "    <tr>\n",
       "      <th>chicken</th>\n",
       "      <td>12</td>\n",
       "      <td>2</td>\n",
       "      <td>7</td>\n",
       "      <td>8</td>\n",
       "      <td>2</td>\n",
       "    </tr>\n",
       "    <tr>\n",
       "      <th>fri</th>\n",
       "      <td>21</td>\n",
       "      <td>1</td>\n",
       "      <td>4</td>\n",
       "      <td>1</td>\n",
       "      <td>3</td>\n",
       "    </tr>\n",
       "    <tr>\n",
       "      <th>jello</th>\n",
       "      <td>2</td>\n",
       "      <td>0</td>\n",
       "      <td>0</td>\n",
       "      <td>0</td>\n",
       "      <td>24</td>\n",
       "    </tr>\n",
       "    <tr>\n",
       "      <th>lettuce</th>\n",
       "      <td>3</td>\n",
       "      <td>13</td>\n",
       "      <td>9</td>\n",
       "      <td>6</td>\n",
       "      <td>0</td>\n",
       "    </tr>\n",
       "    <tr>\n",
       "      <th>noodle</th>\n",
       "      <td>1</td>\n",
       "      <td>0</td>\n",
       "      <td>0</td>\n",
       "      <td>0</td>\n",
       "      <td>27</td>\n",
       "    </tr>\n",
       "    <tr>\n",
       "      <th>nut</th>\n",
       "      <td>20</td>\n",
       "      <td>0</td>\n",
       "      <td>1</td>\n",
       "      <td>11</td>\n",
       "      <td>0</td>\n",
       "    </tr>\n",
       "    <tr>\n",
       "      <th>pizza</th>\n",
       "      <td>2</td>\n",
       "      <td>7</td>\n",
       "      <td>15</td>\n",
       "      <td>6</td>\n",
       "      <td>1</td>\n",
       "    </tr>\n",
       "    <tr>\n",
       "      <th>potato</th>\n",
       "      <td>0</td>\n",
       "      <td>0</td>\n",
       "      <td>0</td>\n",
       "      <td>0</td>\n",
       "      <td>33</td>\n",
       "    </tr>\n",
       "    <tr>\n",
       "      <th>rice</th>\n",
       "      <td>0</td>\n",
       "      <td>0</td>\n",
       "      <td>0</td>\n",
       "      <td>0</td>\n",
       "      <td>34</td>\n",
       "    </tr>\n",
       "    <tr>\n",
       "      <th>sand</th>\n",
       "      <td>0</td>\n",
       "      <td>15</td>\n",
       "      <td>14</td>\n",
       "      <td>1</td>\n",
       "      <td>0</td>\n",
       "    </tr>\n",
       "    <tr>\n",
       "      <th>spinach</th>\n",
       "      <td>6</td>\n",
       "      <td>9</td>\n",
       "      <td>10</td>\n",
       "      <td>4</td>\n",
       "      <td>0</td>\n",
       "    </tr>\n",
       "  </tbody>\n",
       "</table>\n",
       "</div>"
      ],
      "text/plain": [
       "Clusters k=5    0   1   2   3   4\n",
       "Bag File Name                    \n",
       "bagel           7   2   9  12   0\n",
       "broc            0  10  19   6   0\n",
       "chicken        12   2   7   8   2\n",
       "fri            21   1   4   1   3\n",
       "jello           2   0   0   0  24\n",
       "lettuce         3  13   9   6   0\n",
       "noodle          1   0   0   0  27\n",
       "nut            20   0   1  11   0\n",
       "pizza           2   7  15   6   1\n",
       "potato          0   0   0   0  33\n",
       "rice            0   0   0   0  34\n",
       "sand            0  15  14   1   0\n",
       "spinach         6   9  10   4   0"
      ]
     },
     "execution_count": 79,
     "metadata": {},
     "output_type": "execute_result"
    }
   ],
   "source": [
    "data_clusters  = data.drop([\n",
    "    \"Pre-Grasp Initial Utensil Transform Translation X\",\n",
    "    \"Pre-Grasp Initial Utensil Transform Translation Y\",\n",
    "    \"Pre-Grasp Initial Utensil Transform Translation Z\",\n",
    "    \"Pre-Grasp Initial Utensil Transform Rotation X\",\n",
    "    \"Pre-Grasp Initial Utensil Transform Rotation Y\",\n",
    "    \"Pre-Grasp Initial Utensil Transform Rotation Z\",\n",
    "    \"Pre-Grasp Force Threshold\",\n",
    "    \"Grasp In-Food Twist Linear X\",\n",
    "    \"Grasp In-Food Twist Linear Y\",\n",
    "    \"Grasp In-Food Twist Linear Z\",\n",
    "    \"Grasp In-Food Twist Angular X\",\n",
    "    \"Grasp In-Food Twist Angular Y\",\n",
    "    \"Grasp In-Food Twist Angular Z\",\n",
    "    \"Grasp Force Threshold\",\n",
    "    \"Grasp Torque Threshold\",\n",
    "    \"Grasp Duration\",\n",
    "    \"Extraction Out-Of-Food Twist Linear X\",\n",
    "    \"Extraction Out-Of-Food Twist Linear Y\",\n",
    "    \"Extraction Out-Of-Food Twist Linear Z\",\n",
    "    \"Extraction Out-Of-Food Twist Angular X\",\n",
    "    \"Extraction Out-Of-Food Twist Angular Y\",\n",
    "    \"Extraction Out-Of-Food Twist Angular Z\",\n",
    "    \"Extraction Duration\"\n",
    "], axis=1)\n",
    "data_clusters\n",
    "data_clusters = data_clusters.reset_index()\n",
    "data_clusters.pivot_table(index='Bag File Name',columns='Clusters k=5',values='index',aggfunc='count',fill_value=0)"
   ]
  },
  {
   "cell_type": "markdown",
   "metadata": {},
   "source": [
    "# 4. Selecting K"
   ]
  },
  {
   "cell_type": "markdown",
   "metadata": {},
   "source": [
    "Sklearn's KMedoids classifier's `inertia_` property returns the objective function, or quality, of the clustering. \n",
    "\n",
    "**Question**: What would we expect the inertia to be when k=59?"
   ]
  },
  {
   "cell_type": "code",
   "execution_count": 52,
   "metadata": {},
   "outputs": [],
   "source": [
    "ks = []\n",
    "inertias = []\n",
    "for k in range(1, 60, 2):\n",
    "    ks.append(k)\n",
    "    kmedoids = KMedoids(n_clusters=k).fit(data_num)\n",
    "    inertias.append(kmedoids.inertia_)"
   ]
  },
  {
   "cell_type": "markdown",
   "metadata": {},
   "source": [
    "Graph it out"
   ]
  },
  {
   "cell_type": "code",
   "execution_count": 53,
   "metadata": {},
   "outputs": [
    {
     "data": {
      "image/png": "[encoded data removed]",
      "text/plain": [
       "<Figure size 720x360 with 1 Axes>"
      ]
     },
     "metadata": {
      "needs_background": "light"
     },
     "output_type": "display_data"
    }
   ],
   "source": [
    "fig, ax = plt.subplots(figsize=(10, 5))\n",
    "ax.plot(ks, inertias, marker='o')\n",
    "#ax.set_ylim(0, 50)\n",
    "ax.set_xlabel(\"K\")\n",
    "ax.set_ylabel(\"Objective Function\")\n",
    "ax.set_xticks(range(0, ks[-1], 2), minor=True)\n",
    "ax.grid(which='both')"
   ]
  },
  {
   "cell_type": "markdown",
   "metadata": {},
   "source": [
    "**Question**: What appears to be the best value of k?"
   ]
  },
  {
   "cell_type": "code",
   "execution_count": 55,
   "metadata": {},
   "outputs": [
    {
     "data": {
      "text/plain": [
       "5"
      ]
     },
     "execution_count": 55,
     "metadata": {},
     "output_type": "execute_result"
    }
   ],
   "source": [
    "kl = KneeLocator(range(1, 60, 2), inertias, curve=\"convex\", direction=\"decreasing\")\n",
    "kl.elbow"
   ]
  },
  {
   "cell_type": "markdown",
   "metadata": {},
   "source": [
    "**Mathematical elbow calculation**"
   ]
  }
 ],
 "metadata": {
  "kernelspec": {
   "display_name": "Python 3 (ipykernel)",
   "language": "python",
   "name": "python3"
  },
  "language_info": {
   "codemirror_mode": {
    "name": "ipython",
    "version": 3
   },
   "file_extension": ".py",
   "mimetype": "text/x-python",
   "name": "python",
   "nbconvert_exporter": "python",
   "pygments_lexer": "ipython3",
   "version": "3.8.10"
  }
 },
 "nbformat": 4,
 "nbformat_minor": 2
}
