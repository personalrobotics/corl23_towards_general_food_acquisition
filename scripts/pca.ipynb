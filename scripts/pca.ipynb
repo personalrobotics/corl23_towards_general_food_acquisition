{
 "cells": [
  {
   "cell_type": "markdown",
   "metadata": {},
   "source": [
    "## Setup"
   ]
  },
  {
   "cell_type": "code",
   "execution_count": 150,
   "metadata": {},
   "outputs": [],
   "source": [
    "import numpy as np\n",
    "import pandas as pd\n",
    "import matplotlib.pyplot as plt\n",
    "import seaborn as sns\n",
    "from sklearn.decomposition import PCA\n",
    "from sklearn.impute import SimpleImputer\n",
    "from sklearn.preprocessing import StandardScaler\n",
    "from mpl_toolkits.mplot3d import Axes3D"
   ]
  },
  {
   "cell_type": "markdown",
   "metadata": {},
   "source": [
    "The data: Protein quantity measurements of brain tissue samples from multiple regions."
   ]
  },
  {
   "cell_type": "markdown",
   "metadata": {},
   "source": [
    "Here we read in the data, store a feature for visualization later, and drop non-numeric features from the dataset."
   ]
  },
  {
   "cell_type": "code",
   "execution_count": 159,
   "metadata": {},
   "outputs": [
    {
     "name": "stdout",
     "output_type": "stream",
     "text": [
      "(502, 39)\n",
      "(357, 39)\n",
      "(343, 39)\n"
     ]
    }
   ],
   "source": [
    "filepath = \"/home/ramya/my-workspace/src/feeding_study_cleanup/scripts/action_schema_data.csv\"\n",
    "data = pd.read_csv(filepath)\n",
    "print(data.shape)\n",
    "\n",
    "\n",
    "\n",
    "# Replace bag files names with substrings\n",
    "data.loc[data['Bag File Name'].str.contains('chicken'), 'Bag File Name'] = 'chicken'\n",
    "data.loc[data['Bag File Name'].str.contains('broc'), 'Bag File Name'] = 'broc'\n",
    "data.loc[data['Bag File Name'].str.contains('fri'), 'Bag File Name'] = 'fri'\n",
    "data.loc[data['Bag File Name'].str.contains('bagel'), 'Bag File Name'] = 'bagel'\n",
    "data.loc[data['Bag File Name'].str.contains('nut'), 'Bag File Name'] = 'nut'\n",
    "data.loc[data['Bag File Name'].str.contains('lettuce'), 'Bag File Name'] = 'lettuce'\n",
    "data.loc[data['Bag File Name'].str.contains('spinach'), 'Bag File Name'] = 'spinach'\n",
    "data.loc[data['Bag File Name'].str.contains('sand'), 'Bag File Name'] = 'sand'\n",
    "data.loc[data['Bag File Name'].str.contains('pizza'), 'Bag File Name'] = 'pizza'\n",
    "\n",
    "\n",
    "# Drop the rows aren't skewered items. Using substrings due to naming\n",
    "# inconsistencies (e.g., doughnutholes vs. donutholes)\n",
    "skewered_item_substrings = [\n",
    "    \"chicken\",\n",
    "    \"broc\",\n",
    "    \"fri\",\n",
    "    \"bagel\",\n",
    "    \"nut\",\n",
    "    \"lettuce\",\n",
    "    \"spinach\",\n",
    "    \"sand\",\n",
    "    \"pizza\",\n",
    "]\n",
    "\n",
    "rows_to_drop = []\n",
    "for i, row in data.iterrows():\n",
    "    is_skewered = False\n",
    "    for substr in skewered_item_substrings:\n",
    "        if substr in row[\"Bag File Name\"]:\n",
    "            row[\"Bag File Name\"] = substr\n",
    "            is_skewered = True\n",
    "            break\n",
    "            \n",
    "    if not is_skewered:\n",
    "        rows_to_drop.append(i)\n",
    "        \n",
    "data  = data.drop(rows_to_drop, axis=0)\n",
    "print(data.shape)\n",
    "\n",
    "        \n",
    "# Drop any row containing nan or inf\n",
    "data = data[np.all(data != np.nan, axis=1)]\n",
    "data = data[np.all(data != np.inf, axis=1)]\n",
    "data = data[np.all(data != -np.inf, axis=1)]\n",
    "print(data.shape)\n",
    "\n",
    "\n",
    "# create item for hues in graphs\n",
    "names = (data[\"Bag File Name\"])\n",
    "\n",
    "\n",
    "# Drop the columns that aren't part of the action schema\n",
    "data  = data.drop([\n",
    "    \"Save Timestamp\",\n",
    "    \"Bag File Name\",\n",
    "    \"Action Start Time\",\n",
    "    \"Action Contact Time\",\n",
    "    \"Action Extraction Time\",\n",
    "    \"Action End Time\",\n",
    "    \"Bag Duration\",\n",
    "    \"Food Reference Frame Translation X\",\n",
    "    \"Food Reference Frame Translation Y\",\n",
    "    \"Food Reference Frame Translation Z\",\n",
    "    \"Food Reference Frame Rotation X\",\n",
    "    \"Food Reference Frame Rotation Y\",\n",
    "    \"Food Reference Frame Rotation Z\",\n",
    "], axis=1)\n",
    "\n",
    "\n",
    "\n",
    "\n"
   ]
  },
  {
   "cell_type": "markdown",
   "metadata": {},
   "source": [
    "The other columns indicate the amount of a protein present in that brain tissue sample."
   ]
  },
  {
   "cell_type": "markdown",
   "metadata": {},
   "source": [
    "## Pre-processing"
   ]
  },
  {
   "cell_type": "markdown",
   "metadata": {},
   "source": [
    "Next, let's normalize the data using [StandardScaler](https://scikit-learn.org/stable/modules/generated/sklearn.preprocessing.StandardScaler.html). \n",
    "\n",
    "This is important because PCA picks the dimensions (linear combinations of the features) that **maximize variance**. We want this procedure to be agnostic to the units of the dataset. For example, let's say one column had units `km` and you then change it to `cm`. The variance of that column will now jump up 100x, and therefore PCA will put more weight on that column. This is undesirable because nothing has fundamentally changed amongst the dataset. To avoid this behavior, we normalize the data before inputting it into PCA."
   ]
  },
  {
   "cell_type": "code",
   "execution_count": 152,
   "metadata": {},
   "outputs": [
    {
     "name": "stdout",
     "output_type": "stream",
     "text": [
      "False\n"
     ]
    }
   ],
   "source": [
    "imp_mean = SimpleImputer(missing_values=np.nan, strategy='mean')\n",
    "#imp_mean = SimpleImputer(missing_values=np.nan, strategy='mean')\n",
    "\n",
    "clean_data = imp_mean.fit_transform(data)\n",
    "print(np.any(np.isnan(clean_data)))"
   ]
  },
  {
   "cell_type": "code",
   "execution_count": 153,
   "metadata": {
    "scrolled": true
   },
   "outputs": [
    {
     "data": {
      "text/plain": [
       "array([[-1.03622773, -0.0499729 , -0.07673064, ..., -0.12396675,\n",
       "         0.10830691, -0.42580669],\n",
       "       [-1.09485548,  0.62412153, -0.44496388, ..., -0.28582485,\n",
       "         0.16387182, -0.97918269],\n",
       "       [-0.28179063,  0.54744096, -1.80417336, ...,  2.32001534,\n",
       "        -3.0973001 , -0.78110219],\n",
       "       ...,\n",
       "       [-1.80739407, -0.22531346,  0.97813755, ...,  0.47917235,\n",
       "         0.12273782, -0.1495046 ],\n",
       "       [ 0.10746589, -0.23735857,  1.19523677, ...,  0.97094722,\n",
       "         0.2940835 , -0.10959654],\n",
       "       [ 0.35694149, -0.22240938, -0.26071694, ...,  0.40419879,\n",
       "         0.04564195,  0.16749433]])"
      ]
     },
     "execution_count": 153,
     "metadata": {},
     "output_type": "execute_result"
    }
   ],
   "source": [
    "# Not really necessary in our case, but we leave it in anyway\n",
    "clean_data = StandardScaler().fit_transform(data)\n",
    "clean_data"
   ]
  },
  {
   "cell_type": "markdown",
   "metadata": {},
   "source": [
    "##  PCA"
   ]
  },
  {
   "cell_type": "markdown",
   "metadata": {},
   "source": [
    "Finally, we set-up our [PCA](https://scikit-learn.org/stable/modules/generated/sklearn.decomposition.PCA.html) model, fit it, and transform the data (embed it in low dimensional space)"
   ]
  },
  {
   "cell_type": "code",
   "execution_count": 154,
   "metadata": {
    "scrolled": true
   },
   "outputs": [
    {
     "data": {
      "text/plain": [
       "(343, 26)"
      ]
     },
     "execution_count": 154,
     "metadata": {},
     "output_type": "execute_result"
    }
   ],
   "source": [
    "pca = PCA(n_components=3)\n",
    "pca.fit(clean_data)\n",
    "transformed = pca.transform(clean_data)\n",
    "clean_data.shape"
   ]
  },
  {
   "cell_type": "markdown",
   "metadata": {},
   "source": [
    "We can see how much variance each PC explains. Select the first 5 components."
   ]
  },
  {
   "cell_type": "code",
   "execution_count": 155,
   "metadata": {},
   "outputs": [
    {
     "name": "stdout",
     "output_type": "stream",
     "text": [
      "[0.20744468 0.09261655 0.08124965]\n",
      "0.3813108699212803\n"
     ]
    }
   ],
   "source": [
    "# Display the explained variance ratio of the first 5 PCs\n",
    "print(pca.explained_variance_ratio_[0:5])\n",
    "# What is the total ratio of the variance this explains?\n",
    "print(pca.explained_variance_ratio_[0:5].sum())"
   ]
  },
  {
   "cell_type": "markdown",
   "metadata": {},
   "source": [
    "**Question**: What ratio of the total variance would be explained by the first 29 components?"
   ]
  },
  {
   "cell_type": "code",
   "execution_count": 156,
   "metadata": {},
   "outputs": [
    {
     "name": "stdout",
     "output_type": "stream",
     "text": [
      "0.3813108699212803\n"
     ]
    }
   ],
   "source": [
    "print(pca.explained_variance_ratio_[0:29].sum())"
   ]
  },
  {
   "cell_type": "markdown",
   "metadata": {},
   "source": [
    "## Plots"
   ]
  },
  {
   "cell_type": "markdown",
   "metadata": {},
   "source": [
    "Here we see that two main clusters are apparent in this low dimensional space"
   ]
  },
  {
   "cell_type": "code",
   "execution_count": 157,
   "metadata": {
    "scrolled": true
   },
   "outputs": [
    {
     "data": {
      "image/png": "[encoded data removed]",
      "text/plain": [
       "<Figure size 432x288 with 1 Axes>"
      ]
     },
     "metadata": {
      "needs_background": "light"
     },
     "output_type": "display_data"
    }
   ],
   "source": [
    "sns.scatterplot(x=transformed[:,0], y=transformed[:,1])\n",
    "plt.xlabel('PC1')\n",
    "plt.ylabel('PC2')\n",
    "plt.show()"
   ]
  },
  {
   "cell_type": "markdown",
   "metadata": {},
   "source": [
    "**Question**: Did we just do clustering using PCA? Why or why not?"
   ]
  },
  {
   "cell_type": "markdown",
   "metadata": {},
   "source": [
    "After coloring by brain region, we can see that the islands represent the difference between the hippocampus and other brain regions"
   ]
  },
  {
   "cell_type": "code",
   "execution_count": 158,
   "metadata": {},
   "outputs": [
    {
     "data": {
      "image/png": "[encoded data removed]",
      "text/plain": [
       "<Figure size 432x288 with 1 Axes>"
      ]
     },
     "metadata": {
      "needs_background": "light"
     },
     "output_type": "display_data"
    },
    {
     "name": "stdout",
     "output_type": "stream",
     "text": [
      "[ 1.59687952e-01  3.08289516e-01  3.76055007e+00  6.88336832e-01\n",
      "  8.65285004e-01 -7.07130618e-02  1.03691057e-01 -1.66264306e+00\n",
      "  5.72374227e-01  6.29554014e-01 -3.85663645e-02 -4.37344371e-02\n",
      "  4.31011887e-01  8.73828063e-02 -1.00401249e-01  1.27107693e+00\n",
      "  4.11575215e-01  2.44556482e-01  2.26725772e-01  4.76241854e-01\n",
      "  5.04921466e-01  2.95674593e-02  1.29967235e-01  1.08612531e+00\n",
      "  2.17571840e-01  1.66466068e-01  1.60065657e-01  4.48951239e-01\n",
      "  4.89362183e-01 -1.47193008e-01 -2.25854414e-01 -2.15404837e-01\n",
      "  4.04465904e-01  2.10332735e-01 -5.73583065e-01 -2.62033557e-01\n",
      "  1.03288928e+00 -9.96780162e-02  3.34470431e-01 -2.75154027e-02\n",
      "  1.82152774e-01 -1.20955935e+00 -1.76650563e-01 -6.86089258e-02\n",
      "  3.85871727e-01  2.65237236e-01  9.71914901e-01 -1.06796098e-01\n",
      "  4.07989563e-01  4.85038682e-01  2.16803008e-01 -5.94627594e-02\n",
      " -2.79248220e-01 -3.52531801e-02  4.34256578e-01  9.67153871e-01\n",
      " -1.35345291e-02 -1.91485267e-01 -4.18219406e-01  2.49640627e-01\n",
      "  2.38065433e-01  7.50970002e-01 -1.76916656e-02  1.05047658e-01\n",
      " -2.55905871e-01  4.23093090e-02  3.39455858e-01  4.21523386e-01\n",
      " -1.02701287e-01 -1.28561179e-01 -5.72124085e-02 -2.08173301e-01\n",
      "  3.22004473e-01 -6.52985376e-01 -5.14678721e-01 -6.56346870e-01\n",
      " -4.07097818e-01 -8.00415050e-01 -8.89689002e-01  4.01133346e+01\n",
      " -2.20032106e-01  4.50657046e-01 -7.84433003e-01 -4.85577568e-01\n",
      " -5.94054515e-01 -5.10006957e-01 -6.70680370e-01 -6.63578815e-01\n",
      " -5.34562897e-01 -8.53420969e-01 -1.06898032e+00 -8.12180226e-01\n",
      " -7.40438346e-01 -9.50929616e-01  1.69837337e-01  4.75412680e-01\n",
      " -1.10630195e+00  7.12861381e-02 -3.22974726e-01 -9.79976531e-01\n",
      " -4.77719343e-01 -7.20345988e-01 -5.96958925e-01 -6.54338899e-01\n",
      " -9.02477731e-01 -8.28692448e-01  8.19147188e-01  2.07413289e-01\n",
      "  8.58185717e-01 -1.02801948e+00 -1.31349974e+00 -1.20553413e+00\n",
      " -1.26456309e+00 -1.37420708e+00 -1.31478906e+00 -1.06561634e+00\n",
      " -7.54830731e-01 -1.35053454e+00 -1.50921189e+00 -1.37230367e+00\n",
      " -1.41513997e+00 -1.12870913e+00 -7.96268318e-01 -8.33956961e-01\n",
      " -1.78867323e+00 -8.64878918e-01 -1.05517913e+00 -1.84697543e+00\n",
      " -1.40808303e+00 -1.31628513e+00 -1.30689501e+00 -1.05829944e+00\n",
      " -1.46126754e+00 -1.16685169e+00 -8.79962665e-01 -1.22949276e+00\n",
      " -1.47521178e+00 -7.26459946e-01 -5.59872730e-01 -1.25724271e+00\n",
      " -1.05992491e+00 -1.52246013e+00 -1.21196898e+00 -1.32826036e+00\n",
      " -1.14238881e+00 -1.16242184e+00 -1.01162678e+00 -8.78080174e-01\n",
      " -8.94871920e-01 -1.00386273e+00 -1.13800222e+00 -1.05707066e+00\n",
      " -8.34019510e-01 -1.07440623e+00 -1.04048002e+00 -8.75242869e-01\n",
      " -7.37430275e-01 -9.31235720e-01 -9.03215523e-01 -1.04884298e+00\n",
      " -6.13882208e-01 -6.32579105e-01 -1.28419733e+00 -9.22679220e-01\n",
      " -1.31220070e+00 -7.36214015e-01 -1.08647549e+00 -6.82048352e-01\n",
      " -9.17717878e-01 -9.25834315e-01 -8.86004316e-01 -9.65927494e-01\n",
      " -1.35574441e+00 -1.36070949e+00 -1.73300092e+00 -1.31185230e+00\n",
      " -1.06387119e+00 -1.08010129e+00 -1.17862536e+00 -9.17138417e-01\n",
      "  3.91511661e-01 -4.57892274e-03 -2.84945454e-01 -3.39951855e-01\n",
      "  2.22757431e-01 -3.57892746e-01 -2.26453608e-01 -7.00300696e-02\n",
      " -2.42109476e-01  3.21984237e-01  3.10443936e-01 -7.54487600e-01\n",
      "  4.14981052e-02 -6.58414458e-01 -2.61071738e-01 -1.06865154e+00\n",
      " -1.42138628e-01 -1.17371362e+00 -1.51069996e-01 -3.57930898e-02\n",
      " -2.83914399e-01 -2.48232244e-01 -5.24104610e-01 -2.57900179e-01\n",
      " -1.75272617e-02 -2.75046496e-01  3.73061217e-01 -3.53228287e-01\n",
      "  2.70394165e-01  1.79137540e-01  3.72147948e-02  1.51980643e-01\n",
      "  2.78321936e-01  3.78641864e-01 -8.73164968e-01 -7.29804723e-02\n",
      "  6.65794530e-01 -1.20190690e+00 -6.89804428e-02  1.36687193e-01\n",
      "  1.39424119e-01 -4.99313834e-02 -3.95699623e-01  4.70335906e-01\n",
      " -1.42032490e-01  1.30655058e-01  5.23505492e-01  3.79161996e-02\n",
      " -1.81088811e-01 -3.55108110e-01 -1.24020113e-01 -1.67806024e-01\n",
      "  2.06576764e-01  4.91928842e-01  1.63898566e-02  1.26308523e-01\n",
      "  1.14603578e-01  5.86281640e-02 -1.38650774e-01  1.47653765e-01\n",
      "  3.79598097e-01 -2.75264298e-01  1.47787468e-01 -5.45259308e-01\n",
      "  1.16028103e-01  1.22877970e-01  1.83239657e-01  1.89887548e-01\n",
      "  8.38144478e-02 -3.15519949e-01  3.62079947e-01  6.97647280e-01\n",
      " -1.15486444e-02  3.69022683e-01  8.91465720e-02  5.78937108e-02\n",
      "  3.30313551e-01 -1.64718275e-01  3.93889789e-01 -2.70380199e-01\n",
      " -3.94749456e-01  9.03848372e-02 -5.20261317e-01 -3.78496542e-02\n",
      "  2.91983177e-02 -2.72626363e-01  1.76391141e-01  5.73505700e-01\n",
      "  1.37841682e+00  4.65303983e-02  1.00501041e+00  1.10164535e+00\n",
      "  1.17748854e+00  9.12621242e-01  4.88210750e-01  6.68072716e+00\n",
      "  8.96146393e-01  8.73621214e-01  8.94394739e-01 -8.90454392e-02\n",
      "  4.04164882e-01  7.24896088e-01  1.09416391e+00  7.71015412e-01\n",
      "  4.48212130e-01  3.88065308e-01  3.79118388e-01  7.97528921e-01\n",
      "  1.09149545e+00  1.26263575e+00  9.83392867e-01  1.14678709e+00\n",
      "  2.53367381e-01  1.91473092e-01  1.42951798e-01  2.90195598e-01\n",
      "  2.69584828e-01 -4.83849252e-01  1.70361290e+00  6.37042164e-01\n",
      "  6.19462821e-01  1.05588805e+00  6.88942742e-01  3.28520662e-01\n",
      "  1.09501438e+00  6.71031682e-01  1.52279650e+00  4.12769212e-01\n",
      "  5.19083761e-02  6.46576194e-01 -1.12398685e+00 -3.39457990e-01\n",
      "  7.63874201e-01 -8.28234570e-01  4.60637209e-01  6.25440195e-01\n",
      "  4.30337028e-01  1.05324225e+00  7.92655680e-01 -1.96387211e-01\n",
      " -3.48991367e-02  3.80797709e-03  2.46327852e-01 -1.69386091e-01\n",
      " -4.80337660e-01  9.68117460e-02  4.88305147e-01  9.83319017e-01\n",
      " -6.98437280e-02  9.93816286e-01  5.66877974e-01 -4.34451561e-01\n",
      " -3.77664824e-01  4.40762561e-01  8.29751662e-01 -1.22005892e+00\n",
      "  2.28331809e-01  3.74027229e-01  4.53654758e-01  1.07979850e+00\n",
      "  1.02267807e+00  1.09490539e+00  7.31040414e-01]\n",
      "[-1.26372496 -0.43760389  0.10818567 -1.31114465  0.54428668  0.9119939\n",
      " -1.66389681 -1.13971919  1.75419835  1.18303075 -0.08881001 -0.107229\n",
      "  1.48913634  0.11934221  1.45934623  3.0979128   0.66237142  0.87442922\n",
      " -2.27298671 -4.67886909 -1.60037973 -2.27596723 -0.81481943  0.19975574\n",
      "  0.58284444 -1.1591304  -1.98010052  0.37881156  2.50636201 -1.43813049\n",
      " -0.54638888 -4.51222884 -3.43044031 -2.47159377 -0.58262545 -1.08116697\n",
      "  1.03106309 -0.16553556  0.41152469 -1.59271813  0.26524973  0.28138729\n",
      "  0.18455192 -0.32633331 -1.46775788 -2.35120319  1.34422048  0.23777312\n",
      "  1.48444048  0.52288016 -0.05670872  1.07485913  0.03743125  0.84539878\n",
      "  3.05267932 -0.89175702 -0.85780607 -1.20455594  0.16148126 -1.38639772\n",
      " -0.17696884  0.11575052  0.06991683  0.16826314 -1.31640309 -0.36889219\n",
      "  0.63583769 -1.32749982 -1.63367148 -0.98131545 -0.24555343 -1.25181072\n",
      "  1.35707759 -0.45742709  1.70752199 -1.60712462  0.56115376 -1.36433712\n",
      "  0.72603813 -2.35639985 -0.01491394  2.43519214  1.88524543  0.63875098\n",
      " -0.71699014  0.32684341  3.21028351  1.02646908  2.9231132   0.38393547\n",
      "  0.29368936  1.42773556  1.09934976  1.13883278 -1.45826821 -0.2377227\n",
      " -1.36199354 -1.65056916  0.23587206 -1.54368918 -0.53699159  1.57342264\n",
      " -1.76809423 -1.16072353 -3.53891343 -2.44041423 -2.94084693 -1.02590116\n",
      " -2.36803715  0.880748   -0.25435345  0.22565667  1.93673648  0.42912628\n",
      " -0.12084937 -0.06859803  0.11949116 -0.88035177  1.21368823 -0.21443529\n",
      "  1.5717565  -0.44812405  0.95768997  0.35833764  0.60046349 -0.36983426\n",
      "  1.06592018 -1.67715945  0.61137285 -0.56704298  0.06642514 -1.28533458\n",
      " -2.81548499 -1.6252324  -0.43367414 -1.70847929 -1.08042409 -2.96894386\n",
      " -0.23454671 -2.93232775 -0.94888087 -2.19498521 -1.02931528 -2.05508753\n",
      " -2.05930217 -2.31274384 -1.23169704  0.22178854 -0.85198822 -0.3929414\n",
      " -1.6105432  -1.47859888 -1.2075632  -2.38855593  1.43443774  1.65217514\n",
      "  1.9000757   1.23029517  0.67524983  2.62003195  0.72716713  0.80447271\n",
      " -1.05146609  2.54665068  0.71237079 -0.31698306 -0.74785349 -1.27774495\n",
      "  0.03080572 -3.39373062 -0.7820245  -1.44615943 -0.96943683  0.60265279\n",
      " -2.56823515 -2.22871812 -0.53912356 -0.40011931 -0.85437939  0.0808303\n",
      "  0.88041688 -2.77691787 -1.93475288 -1.7288783  -0.0110487  -0.83950207\n",
      " -0.18999231 -0.34619483  1.3101858  -0.30251186 -0.21739411 -0.03168985\n",
      " -0.22966545 -3.82444303 -0.38598368 -0.08089764  1.20546534 -0.37828806\n",
      "  1.54208895  0.83505338  1.47727844 -0.03735912 -0.60026656  2.63413591\n",
      "  1.63144178 -0.83450906  0.58930892  0.12088346  0.94128301  0.44116288\n",
      "  0.18437756 -1.18162085  0.56066824  1.44902465 -1.36264488  0.97391608\n",
      "  0.42957803  1.04580065 -1.37298444  0.71293049 -1.23574491 -0.83297707\n",
      "  0.5765678   1.12435335  0.71709159  0.73970409  0.88402865  0.08831057\n",
      "  0.59144928 -1.06485133 -0.18895519 -1.68683719 -1.55438834 -0.97691505\n",
      " -1.15684397 -1.12125953 -1.20940453  0.06929949 -0.22030737  0.06770397\n",
      "  2.02292434  0.9112564   3.16754696  1.65566277  1.80341636  2.76952996\n",
      "  1.19953565  2.03576008  1.59990779 -2.90357629  1.03860164  0.39142099\n",
      " -1.6204699   1.67751167  0.03720929 -2.12193693  0.65514142  0.02001716\n",
      " -0.97689272 -0.05750107 -0.5399546   1.139953   -2.40308149 -2.09048164\n",
      " -1.43197311 -2.44454104 -0.19541853  2.35455603  2.65418489 -0.75115204\n",
      "  2.63797898  0.237496    1.76786983  3.26414636 -0.64322602 -1.24104766\n",
      "  2.70762292  1.77205132  1.03787029  0.99512167 -1.0696886   1.77892072\n",
      "  0.89100595  3.2049208  -1.67152631  2.57687626 -1.53141685  2.10549457\n",
      " -3.20228005 -0.09171262 -4.53989548  3.13103337  1.35700402  1.80947466\n",
      " -1.08257223  0.71747752  1.78656651 -1.31715924  1.79801851  1.52801228\n",
      "  0.89020015  1.4815023   0.20054924 -0.65157148  2.97198867  1.77594752\n",
      "  3.16174268  2.02426947  2.05807307  0.91163603  0.77115236  0.4101454\n",
      "  1.10178051 -0.54474205  1.36835723  0.94455459  0.91219529  2.12188774\n",
      " -0.49319835  0.28385559  0.8330162   5.08851635  0.6076652   1.65568974\n",
      "  0.1819024   3.51347771  0.24669998  4.33521802  0.32607254  0.23823934\n",
      "  1.08680853  0.06679544 -0.1792379   2.22306937  0.23560889 -2.29400089\n",
      " -1.76339564 -0.71339599  1.71719447 -1.48903423 -1.02479774  0.43291564\n",
      " -0.23551051]\n"
     ]
    }
   ],
   "source": [
    "sns.scatterplot(x=transformed[:,0], y=transformed[:,1], hue=names)\n",
    "plt.xlabel('PC1')\n",
    "plt.ylabel('PC2')\n",
    "plt.show()\n",
    "print(transformed[:,0])\n",
    "print(transformed[:,1])"
   ]
  },
  {
   "cell_type": "markdown",
   "metadata": {},
   "source": [
    "**Question**: How can we interpret this result, in light of what our dataset represents?"
   ]
  },
  {
   "cell_type": "markdown",
   "metadata": {},
   "source": [
    "We can look at other PCs as well. There are outliers that become apparent here!"
   ]
  },
  {
   "cell_type": "code",
   "execution_count": 121,
   "metadata": {},
   "outputs": [
    {
     "data": {
      "image/png": "[encoded data removed]",
      "text/plain": [
       "<Figure size 432x288 with 1 Axes>"
      ]
     },
     "metadata": {
      "needs_background": "light"
     },
     "output_type": "display_data"
    }
   ],
   "source": [
    "fig = plt.figure()\n",
    "ax = fig.add_subplot(111, projection = '3d')\n",
    "\n",
    "x = transformed[:,0]\n",
    "y = transformed[:,1]\n",
    "z = transformed[:,2]\n",
    "\n",
    "ax.set_xlabel(\"PCA1\")\n",
    "ax.set_ylabel(\"PCA2\")\n",
    "ax.set_zlabel(\"PCA3\")\n",
    "\n",
    "ax.scatter(x, y, z)\n",
    "\n",
    "plt.show()"
   ]
  },
  {
   "cell_type": "markdown",
   "metadata": {},
   "source": [
    "**Question**: Why was PCA helpful for this problem (why did we use it)?"
   ]
  }
 ],
 "metadata": {
  "kernelspec": {
   "display_name": "Python 3 (ipykernel)",
   "language": "python",
   "name": "python3"
  },
  "language_info": {
   "codemirror_mode": {
    "name": "ipython",
    "version": 3
   },
   "file_extension": ".py",
   "mimetype": "text/x-python",
   "name": "python",
   "nbconvert_exporter": "python",
   "pygments_lexer": "ipython3",
   "version": "3.8.10"
  }
 },
 "nbformat": 4,
 "nbformat_minor": 1
}
